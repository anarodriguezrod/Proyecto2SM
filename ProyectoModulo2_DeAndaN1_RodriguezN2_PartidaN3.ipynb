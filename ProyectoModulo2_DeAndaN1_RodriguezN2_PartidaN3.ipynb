{
 "cells": [
  {
   "cell_type": "markdown",
   "metadata": {},
   "source": [
    "# Vibraciones Transversales de una cuerda fija en sus extremos\n",
    "\n",
    "- Ana Esmeralda Rodriguez Rodriguez\n",
    "- Alejandro de Anda Martín\n",
    "- José Partida Padilla "
   ]
  },
  {
   "cell_type": "markdown",
   "metadata": {},
   "source": [
    "### Descripción\n",
    "Analizar las oscilaciones que se presentan a lo largo de una cuerda que se encuentra fija en ambos extremos, determinar una relacion entre la lonjitud de onda y la longitud de la cuerda."
   ]
  },
  {
   "cell_type": "markdown",
   "metadata": {},
   "source": [
    "### Objetivo General\n",
    "Determinar una relacion entre la lonjitud de onda y la longitud de la cuerda y con esto graficar las oscilaciones de una cuerda fija en ambos extremos."
   ]
  },
  {
   "cell_type": "markdown",
   "metadata": {},
   "source": [
    "### Objetivos Especificos\n",
    "- Satisfacer la ecuación de d' Alambert unidimencional. \n",
    "- determinar una relacion entre la longitud de onda del modo \"n\" y la longitud \"L\" de la cuerda. \n",
    "- graficar la vibracion fundamental usando los armonicos n del 1 al 8.\n",
    "- ubicar la posición y las velocidades iniciales de la cuerda.\n"
   ]
  },
  {
   "cell_type": "markdown",
   "metadata": {},
   "source": [
    "### Modelo que representa el problema \n",
    "satisfacer la ecuación d' Alambert unidimencional:\n",
    "$$ \\frac{\\partial^2 y}{\\partial t^2} - c^2 \\frac{\\partial^2 y}{\\partial x^2} = 0  $$\n",
    "\n",
    "donde \"c\" es la velocidad de propagación que se relaciona a la tensión T y a la masa por unidad de longitud μ por\n",
    "1/2 c=(T/μ) ."
   ]
  },
  {
   "cell_type": "markdown",
   "metadata": {},
   "source": [
    "$ y(x,t) = \\sum (a_n \\cos\\omega_n t + b_n \\sin \\omega_n t)\\sin\\frac{\\omega_n}{c}x $    \n"
   ]
  },
  {
   "cell_type": "markdown",
   "metadata": {},
   "source": [
    "con $ \\omega_n = n\\omega_1  $ donde: $ n\\omega_1 = \\frac{\\pi c}{L} $ es la frecuencia angular del modo fundamental n=1 y $ a_n $ y $ b_n $ son constantes que se\n",
    "pueden determinar con las condiciones iniciales en $t = 0$"
   ]
  },
  {
   "cell_type": "markdown",
   "metadata": {},
   "source": [
    "La frecuencia de oscilación $f_n$ se relaciona entonces con las características de la cuerda por  "
   ]
  },
  {
   "cell_type": "markdown",
   "metadata": {},
   "source": [
    "$f_n = \\frac{n c}{2L} = \\frac{n}{2L}\\sqrt\\frac{T}{\\mu} $"
   ]
  },
  {
   "cell_type": "markdown",
   "metadata": {},
   "source": [
    "En t = 0, el desplazamiento y la velocidad transversales de la cuerda están dados respectivamente por:"
   ]
  },
  {
   "cell_type": "markdown",
   "metadata": {},
   "source": [
    "$ y(x,0)= \\sum a_n \\sin\\frac{\\omega_n}{c}x $"
   ]
  },
  {
   "cell_type": "markdown",
   "metadata": {},
   "source": [
    "$ \\frac{\\partial y}{\\partial t} (x,0) = \\sum \\omega_n b_n \\sin\\frac{\\omega_n}{c}x $"
   ]
  },
  {
   "cell_type": "markdown",
   "metadata": {},
   "source": [
    "Para obtener los coeficientes $a_n$ y $b_n$, se multiplican las\n",
    "expresiones (4) y (5) por sen$\\frac{\\omega_n x}{c}$ y se integra de 0 a L."
   ]
  },
  {
   "cell_type": "markdown",
   "metadata": {},
   "source": [
    "$ a_n = \\frac{2}{L} \\int_0^L y(x,0)\\sin\\frac{\\omega_n x}{c}dx   $"
   ]
  },
  {
   "cell_type": "markdown",
   "metadata": {},
   "source": [
    "$ b_n = \\frac{2}{n\\pi c} \\int_0^L \\frac{\\partial y}{\\partial t}(x,0)\\sin\\frac{\\omega_n x}{c}dx   $"
   ]
  },
  {
   "cell_type": "markdown",
   "metadata": {},
   "source": [
    "### Simulaciones\n",
    "siguiendo las ecuaciones que utilizamos para el modelo, pudimos obtener la grafica de cada una de las oscilaciones n (armonicos del 1 al 8)"
   ]
  },
  {
   "cell_type": "code",
   "execution_count": 3,
   "metadata": {
    "collapsed": true
   },
   "outputs": [],
   "source": [
    "from sympy import init_printing; init_printing(use_latex='mathjax')\n",
    "from sympy import*\n",
    "import sympy as sym\n",
    "import numpy as np\n",
    "%matplotlib inline\n",
    "import matplotlib.pyplot as plt\n",
    "from ipywidgets import *\n",
    "from scipy import special"
   ]
  },
  {
   "cell_type": "code",
   "execution_count": 4,
   "metadata": {},
   "outputs": [
    {
     "data": {
      "text/latex": [
       "$$t$$"
      ],
      "text/plain": [
       "t"
      ]
     },
     "execution_count": 4,
     "metadata": {},
     "output_type": "execute_result"
    }
   ],
   "source": [
    "var('t')"
   ]
  },
  {
   "cell_type": "code",
   "execution_count": 5,
   "metadata": {},
   "outputs": [
    {
     "data": {
      "text/latex": [
       "$$\\left ( x, \\quad c, \\quad n, \\quad w\\right )$$"
      ],
      "text/plain": [
       "(x, c, n, w)"
      ]
     },
     "execution_count": 5,
     "metadata": {},
     "output_type": "execute_result"
    }
   ],
   "source": [
    "sym.var('x c n w', real = True)"
   ]
  },
  {
   "cell_type": "code",
   "execution_count": 6,
   "metadata": {
    "collapsed": true
   },
   "outputs": [],
   "source": [
    "def wn(n, w1):\n",
    "    return n*w1"
   ]
  },
  {
   "cell_type": "code",
   "execution_count": 6,
   "metadata": {},
   "outputs": [
    {
     "data": {
      "text/latex": [
       "$$\\left [ 0.0, \\quad 151.75, \\quad 303.5, \\quad 455.25, \\quad 607.0, \\quad 758.75, \\quad 910.5, \\quad 1062.25\\right ]$$"
      ],
      "text/plain": [
       "[0.0, 151.75, 303.5, 455.25, 607.0, 758.75, 910.5, 1062.25]"
      ]
     },
     "execution_count": 6,
     "metadata": {},
     "output_type": "execute_result"
    }
   ],
   "source": [
    "[wn(n, 151.75) for n in range(8)]"
   ]
  },
  {
   "cell_type": "code",
   "execution_count": 13,
   "metadata": {
    "collapsed": true
   },
   "outputs": [],
   "source": [
    "def an(n):\n",
    "    return [2*(sym.Integral(.01* sym.sin((wn(n+1, 151.75))*x/48.30), (x,0,1))).doit() for n in range(n)]"
   ]
  },
  {
   "cell_type": "code",
   "execution_count": 18,
   "metadata": {
    "collapsed": true
   },
   "outputs": [],
   "source": [
    "def bn(n):\n",
    "    return [(2/(n+1*sym.pi*48.3))*(sym.Integral(.01* sym.sin((wn(n+1, 151.75))*x/48.30), (x,0,1))).doit() for n in range(n)]\n",
    "    "
   ]
  },
  {
   "cell_type": "code",
   "execution_count": 9,
   "metadata": {},
   "outputs": [
    {
     "data": {
      "text/latex": [
       "$$\\sum_{n=1}^{100} 0.0127314660600081$$"
      ],
      "text/plain": [
       " 100                    \n",
       " ___                    \n",
       " ╲                      \n",
       "  ╲   0.0127314660600081\n",
       "  ╱                     \n",
       " ╱                      \n",
       " ‾‾‾                    \n",
       "n = 1                   "
      ]
     },
     "execution_count": 9,
     "metadata": {},
     "output_type": "execute_result"
    }
   ],
   "source": [
    "suma = Sum(an(8)[1]*sym.cos(wn(1,151.75)*0)+ bn(8)[1]*sym.sin(wn(1,151.75)*0)*sym.sin(wn(1,151.75)/48.30)*x, (n,1,100)); suma   "
   ]
  },
  {
   "cell_type": "code",
   "execution_count": 10,
   "metadata": {},
   "outputs": [
    {
     "data": {
      "text/latex": [
       "$$1.27314660600081$$"
      ],
      "text/plain": [
       "1.27314660600081"
      ]
     },
     "execution_count": 10,
     "metadata": {},
     "output_type": "execute_result"
    }
   ],
   "source": [
    "d = suma.evalf();d"
   ]
  },
  {
   "cell_type": "code",
   "execution_count": 21,
   "metadata": {
    "collapsed": true
   },
   "outputs": [],
   "source": [
    "def sm(w):\n",
    "    return [Sum(an(8)[w+1]*sym.cos(wn(1,151.75)*0)+ bn(8)[w+1]*sym.sin(wn(1,151.75)*0)*sym.sin(wn(w+1,151.75)/48.30)*x, (n,1,100)).evalf() for w in range(w)]"
   ]
  },
  {
   "cell_type": "code",
   "execution_count": 12,
   "metadata": {},
   "outputs": [
    {
     "data": {
      "image/png": "[encoded data removed]",
      "text/plain": [
       "<matplotlib.figure.Figure at 0x1eefbdc62e8>"
      ]
     },
     "metadata": {},
     "output_type": "display_data"
    }
   ],
   "source": [
    "r = np.linspace(0, 10,100)\n",
    "s1 = sm(8)[1]\n",
    "plt.plot(r, special.jn(1.27314660600081, r), label = '${%s} = 1 $'%n)\n",
    "plt.plot(r, special.jn(3.34678967699176*10**-8, r), label = '${%s} = 2 $'%n)\n",
    "plt.plot(r, special.jn(0.424382157376409, r), label = '${%s} = 3 $'%n)\n",
    "plt.plot(r, special.jn(6.69357900703882*10**-8, r), label = '${%s} = 4 $'%n)\n",
    "plt.plot(r, special.jn(0.254629240877218, r), label = '${%s} = 5$'%n)\n",
    "plt.plot(r, special.jn(1.00403676280177**-7, r), label = '${%s} = 6 $'%n)\n",
    "plt.plot(r, special.jn(0.181877971824493, r), label = '${%s} = 7$'%n)\n",
    "plt.xlabel('$x$', fontsize = 18)\n",
    "plt.ylabel('$Armónicos(n)$', fontsize = 18)\n",
    "plt.axhline(y = 0, color = 'k')                    # Para graficar lineas horizontales\n",
    "plt.legend(loc='center left', bbox_to_anchor=(1.0, 0.5), prop={'size': 14})\n",
    "plt.show()"
   ]
  },
  {
   "cell_type": "markdown",
   "metadata": {},
   "source": [
    "## Conclusiones"
   ]
  },
  {
   "cell_type": "markdown",
   "metadata": {},
   "source": [
    "El modelo y las aproximaciones que se han hecho simplifican mucho los cálculos y permiten explicar parte de los fenómenos observados. \n",
    " \n",
    "Dado que la cuerda está fija en sus dos extremos, se puede determinar una relación entre la longitud de onda del modo n y la longitud L de la cuerda\n",
    " \n",
    "Se puede ver con estas expresiones, que posición y velocidad iniciales de la cuerda determinan completamente su espectro de vibración\n",
    " \n",
    "Estas vibraciones se transmiten integralmente al aire en forma de sonido y representan también el espectro sonoro de la cuerda, es decir su timbre. Numerosos factores, además de la composición, de la longitud y de la tensión, van a influir sobre el contenido del sonido, en particular, el ataque.\n",
    " "
   ]
  },
  {
   "cell_type": "markdown",
   "metadata": {},
   "source": [
    "### Bibliografia"
   ]
  },
  {
   "cell_type": "markdown",
   "metadata": {},
   "source": [
    "Michel Picquart, Lidia Jiménez. (2010). Estudio simplificado del timbre de cuerdas percutidas, punzadas y pulsadas. México, DF, México: Edvcatio physiorvm."
   ]
  }
 ],
 "metadata": {
  "kernelspec": {
   "display_name": "Python 3",
   "language": "python",
   "name": "python3"
  },
  "language_info": {
   "codemirror_mode": {
    "name": "ipython",
    "version": 3
   },
   "file_extension": ".py",
   "mimetype": "text/x-python",
   "name": "python",
   "nbconvert_exporter": "python",
   "pygments_lexer": "ipython3",
   "version": "3.6.3"
  }
 },
 "nbformat": 4,
 "nbformat_minor": 2
}
